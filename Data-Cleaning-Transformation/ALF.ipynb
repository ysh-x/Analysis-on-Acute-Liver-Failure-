{
 "cells": [
  {
   "cell_type": "markdown",
   "id": "75ed517d",
   "metadata": {},
   "source": [
    "# Analysis on Acute Liver Failure using Apache Hadoop\n",
    "## Submitted By\n",
    "\n",
    "- G. Yogeshwar | 19MIS1151\n",
    "- S Jeevana\t| 19MIS1169\n",
    "- Rihana Zainab | 19MIS1167\n",
    " "
   ]
  },
  {
   "cell_type": "markdown",
   "id": "a438974e",
   "metadata": {},
   "source": [
    "## 1. Data Cleaning "
   ]
  },
  {
   "cell_type": "code",
   "execution_count": 69,
   "id": "edb35ef9",
   "metadata": {},
   "outputs": [],
   "source": [
    "import pandas as pd\n",
    "import numpy as np\n",
    "import statsmodels.api as sapi\n",
    "from statsmodels.formula.api import ols\n",
    "import matplotlib.pyplot as plt"
   ]
  },
  {
   "cell_type": "code",
   "execution_count": 70,
   "id": "ae7234c2",
   "metadata": {},
   "outputs": [],
   "source": [
    "df = pd.read_csv('data.csv')"
   ]
  },
  {
   "cell_type": "code",
   "execution_count": 71,
   "id": "60aa81ed",
   "metadata": {},
   "outputs": [
    {
     "name": "stdout",
     "output_type": "stream",
     "text": [
      "<bound method NDFrame.head of       Age Gender Region  Weight  Height  Body Mass Index  Obesity  Waist  \\\n",
      "0      65      M   east    56.0   162.1            21.31      0.0   83.6   \n",
      "1      36      M  south    60.2   162.2            22.88      0.0   76.6   \n",
      "2      66      M   east    83.9   162.5            31.77      1.0  113.2   \n",
      "3      54      M   east    69.4   160.5            26.94      0.0   77.9   \n",
      "4      63      M  north    73.1   159.2            28.84      0.0   89.3   \n",
      "...   ...    ...    ...     ...     ...              ...      ...    ...   \n",
      "8780   35      F   east    70.0   171.5            23.80      0.0   87.5   \n",
      "8781   66      F  north   102.0   180.7            31.24      1.0  113.2   \n",
      "8782   37      F  south    84.4   186.0            24.40      0.0   93.6   \n",
      "8783   39      F   east    92.1   184.8            26.97      0.0   98.2   \n",
      "8784   70      M   east    58.5   161.1            22.54      0.0   99.4   \n",
      "\n",
      "      Maximum Blood Pressure  Minimum Blood Pressure  ...  PoorVision  \\\n",
      "0                      135.0                    71.0  ...         0.0   \n",
      "1                       96.0                    52.0  ...         0.0   \n",
      "2                      115.0                    57.0  ...         0.0   \n",
      "3                      110.0                    57.0  ...         0.0   \n",
      "4                      132.0                    73.0  ...         0.0   \n",
      "...                      ...                     ...  ...         ...   \n",
      "8780                   114.0                    76.0  ...         0.0   \n",
      "8781                   117.0                    72.0  ...         0.0   \n",
      "8782                   144.0                    82.0  ...         0.0   \n",
      "8783                   121.0                    75.0  ...         0.0   \n",
      "8784                   125.0                    82.0  ...         NaN   \n",
      "\n",
      "      Alcohol Consumption  HyperTension  Family  HyperTension  Diabetes  \\\n",
      "0                       1           0.0                     0       0.0   \n",
      "1                       0           0.0                     0       0.0   \n",
      "2                       1           0.0                     0       1.0   \n",
      "3                       1           0.0                     0       0.0   \n",
      "4                       0           1.0                     0       0.0   \n",
      "...                   ...           ...                   ...       ...   \n",
      "8780                    1           0.0                     1       0.0   \n",
      "8781                    0           1.0                     0       0.0   \n",
      "8782                    0           1.0                     0       0.0   \n",
      "8783                    0           0.0                     0       0.0   \n",
      "8784                    0           1.0                     1       0.0   \n",
      "\n",
      "      Family Diabetes  Hepatitis  Family Hepatitis  Chronic Fatigue  ALF  \n",
      "0                   1        1.0               0.0              0.0  0.0  \n",
      "1                   0        0.0               0.0              0.0  0.0  \n",
      "2                   0        0.0               0.0              0.0  0.0  \n",
      "3                   0        0.0               0.0              0.0  0.0  \n",
      "4                   0        0.0               0.0              0.0  0.0  \n",
      "...               ...        ...               ...              ...  ...  \n",
      "8780                1        0.0               0.0              0.0  NaN  \n",
      "8781                1        0.0               0.0              0.0  NaN  \n",
      "8782                0        0.0               0.0              0.0  NaN  \n",
      "8783                0        0.0               0.0              0.0  NaN  \n",
      "8784                0        0.0               0.0              0.0  NaN  \n",
      "\n",
      "[8785 rows x 30 columns]>\n"
     ]
    }
   ],
   "source": [
    "print(df.head)"
   ]
  },
  {
   "cell_type": "code",
   "execution_count": 72,
   "id": "485cff75",
   "metadata": {},
   "outputs": [],
   "source": [
    "df = df.dropna(axis = 0, subset=['ALF'])\n",
    "df = df.drop(['Region'], axis=1)\n"
   ]
  },
  {
   "cell_type": "code",
   "execution_count": 73,
   "id": "a2961af7",
   "metadata": {},
   "outputs": [],
   "source": [
    "df.drop(['Source of Care'], axis=1)"
   ]
  },
  {
   "cell_type": "code",
   "execution_count": 74,
   "id": "22660e12",
   "metadata": {},
   "outputs": [],
   "source": [
    "df = df.replace(to_replace=\"M\", value=0)\n"
   ]
  },
  {
   "cell_type": "code",
   "execution_count": 75,
   "id": "2a88beb9",
   "metadata": {},
   "outputs": [],
   "source": [
    "df = df.replace(to_replace=\"F\", value=1)\n"
   ]
  },
  {
   "cell_type": "code",
   "execution_count": 76,
   "id": "f4599003",
   "metadata": {},
   "outputs": [
    {
     "name": "stdout",
     "output_type": "stream",
     "text": [
      "<bound method DataFrame.info of       Age  Gender  Weight  Height  Body Mass Index  Obesity  Waist  \\\n",
      "0      65       0    56.0   162.1            21.31      0.0   83.6   \n",
      "1      36       0    60.2   162.2            22.88      0.0   76.6   \n",
      "2      66       0    83.9   162.5            31.77      1.0  113.2   \n",
      "3      54       0    69.4   160.5            26.94      0.0   77.9   \n",
      "4      63       0    73.1   159.2            28.84      0.0   89.3   \n",
      "...   ...     ...     ...     ...              ...      ...    ...   \n",
      "5995   77       1   109.3   185.8            31.66      1.0  117.2   \n",
      "5996   49       1    86.6   168.9            30.36      1.0   99.5   \n",
      "5997   30       1    78.0   174.9            25.50      0.0   89.2   \n",
      "5998   75       1    78.8   176.5            25.30      0.0  100.4   \n",
      "5999   35       0    62.3   164.2            23.11      0.0   87.2   \n",
      "\n",
      "      Maximum Blood Pressure  Minimum Blood Pressure  Good Cholesterol  ...  \\\n",
      "0                      135.0                    71.0              48.0  ...   \n",
      "1                       96.0                    52.0              31.0  ...   \n",
      "2                      115.0                    57.0              44.0  ...   \n",
      "3                      110.0                    57.0              74.0  ...   \n",
      "4                      132.0                    73.0              67.0  ...   \n",
      "...                      ...                     ...               ...  ...   \n",
      "5995                   149.0                    77.0              33.0  ...   \n",
      "5996                   130.0                    75.0              38.0  ...   \n",
      "5997                   126.0                    83.0              40.0  ...   \n",
      "5998                   129.0                    50.0              58.0  ...   \n",
      "5999                    95.0                    59.0              52.0  ...   \n",
      "\n",
      "      PoorVision  Alcohol Consumption  HyperTension  Family  HyperTension  \\\n",
      "0            0.0                    1           0.0                     0   \n",
      "1            0.0                    0           0.0                     0   \n",
      "2            0.0                    1           0.0                     0   \n",
      "3            0.0                    1           0.0                     0   \n",
      "4            0.0                    0           1.0                     0   \n",
      "...          ...                  ...           ...                   ...   \n",
      "5995         0.0                    1           1.0                     0   \n",
      "5996         0.0                    0           1.0                     1   \n",
      "5997         0.0                    0           0.0                     1   \n",
      "5998         0.0                    1           1.0                     0   \n",
      "5999         0.0                    1           0.0                     0   \n",
      "\n",
      "      Diabetes  Family Diabetes  Hepatitis  Family Hepatitis  Chronic Fatigue  \\\n",
      "0          0.0                1        1.0               0.0              0.0   \n",
      "1          0.0                0        0.0               0.0              0.0   \n",
      "2          1.0                0        0.0               0.0              0.0   \n",
      "3          0.0                0        0.0               0.0              0.0   \n",
      "4          0.0                0        0.0               0.0              0.0   \n",
      "...        ...              ...        ...               ...              ...   \n",
      "5995       0.0                0        0.0               0.0              0.0   \n",
      "5996       0.0                0        0.0               0.0              0.0   \n",
      "5997       0.0                1        0.0               0.0              0.0   \n",
      "5998       1.0                1        0.0               0.0              0.0   \n",
      "5999       0.0                0        0.0               0.0              0.0   \n",
      "\n",
      "      ALF  \n",
      "0     0.0  \n",
      "1     0.0  \n",
      "2     0.0  \n",
      "3     0.0  \n",
      "4     0.0  \n",
      "...   ...  \n",
      "5995  1.0  \n",
      "5996  0.0  \n",
      "5997  0.0  \n",
      "5998  0.0  \n",
      "5999  0.0  \n",
      "\n",
      "[6000 rows x 28 columns]>\n"
     ]
    }
   ],
   "source": [
    "print(df.info)"
   ]
  },
  {
   "cell_type": "code",
   "execution_count": 52,
   "id": "fc1aa1e5",
   "metadata": {
    "scrolled": true
   },
   "outputs": [
    {
     "data": {
      "text/plain": [
       "Age                         0\n",
       "Gender                      0\n",
       "Weight                    133\n",
       "Height                    139\n",
       "Body Mass Index           206\n",
       "Obesity                   206\n",
       "Waist                     215\n",
       "Maximum Blood Pressure    206\n",
       "Minimum Blood Pressure    252\n",
       "Good Cholesterol            8\n",
       "Bad Cholesterol             8\n",
       "Total Cholesterol           6\n",
       "Dyslipidemia                0\n",
       "PVD                         0\n",
       "Physical Activity           8\n",
       "Education                  15\n",
       "Unmarried                 301\n",
       "Income                    792\n",
       "PoorVision                376\n",
       "Alcohol Consumption         0\n",
       "HyperTension               53\n",
       "Family  HyperTension        0\n",
       "Diabetes                    1\n",
       "Family Diabetes             0\n",
       "Hepatitis                  13\n",
       "Family Hepatitis            3\n",
       "Chronic Fatigue            26\n",
       "ALF                         0\n",
       "dtype: int64"
      ]
     },
     "execution_count": 52,
     "metadata": {},
     "output_type": "execute_result"
    }
   ],
   "source": [
    "df.isnull().sum()"
   ]
  },
  {
   "cell_type": "code",
   "execution_count": 77,
   "id": "fc176ee3",
   "metadata": {},
   "outputs": [
    {
     "data": {
      "text/plain": [
       "Index(['Age', 'Gender', 'Weight', 'Height', 'Body Mass Index', 'Obesity',\n",
       "       'Waist', 'Maximum Blood Pressure', 'Minimum Blood Pressure',\n",
       "       'Good Cholesterol', 'Bad Cholesterol', 'Total Cholesterol',\n",
       "       'Dyslipidemia', 'PVD', 'Physical Activity', 'Education', 'Unmarried',\n",
       "       'Income', 'PoorVision', 'Alcohol Consumption', 'HyperTension',\n",
       "       'Family  HyperTension', 'Diabetes', 'Family Diabetes', 'Hepatitis',\n",
       "       'Family Hepatitis', 'Chronic Fatigue', 'ALF'],\n",
       "      dtype='object')"
      ]
     },
     "execution_count": 77,
     "metadata": {},
     "output_type": "execute_result"
    }
   ],
   "source": [
    "df.columns"
   ]
  },
  {
   "cell_type": "markdown",
   "id": "4bc3b889",
   "metadata": {},
   "source": [
    "## 2. Dataset Transformation & Featureset Selection"
   ]
  },
  {
   "cell_type": "code",
   "execution_count": 59,
   "id": "c68cf9d7",
   "metadata": {},
   "outputs": [],
   "source": [
    "from sklearn.impute import SimpleImputer\n",
    "imp = SimpleImputer(strategy = 'median')\n"
   ]
  },
  {
   "cell_type": "code",
   "execution_count": 80,
   "id": "c51ee3a3",
   "metadata": {},
   "outputs": [],
   "source": [
    "imputer = imp.fit_transform(df)"
   ]
  },
  {
   "cell_type": "code",
   "execution_count": 81,
   "id": "cb663e42",
   "metadata": {},
   "outputs": [],
   "source": [
    "df = pd.DataFrame(imputer, columns = ['Age', 'Gender', 'Weight', 'Height', 'Body Mass Index', 'Obesity',\n",
    "       'Waist', 'Maximum Blood Pressure', 'Minimum Blood Pressure',\n",
    "       'Good Cholesterol', 'Bad Cholesterol', 'Total Cholesterol',\n",
    "       'Dyslipidemia', 'PVD', 'Physical Activity', 'Education', 'Unmarried',\n",
    "       'Income', 'PoorVision', 'Alcohol Consumption', 'HyperTension',\n",
    "       'Family  HyperTension', 'Diabetes', 'Family Diabetes', 'Hepatitis',\n",
    "       'Family Hepatitis', 'Chronic Fatigue', 'ALF'])"
   ]
  },
  {
   "cell_type": "code",
   "execution_count": 82,
   "id": "60284247",
   "metadata": {},
   "outputs": [
    {
     "name": "stdout",
     "output_type": "stream",
     "text": [
      "<class 'pandas.core.frame.DataFrame'>\n",
      "RangeIndex: 6000 entries, 0 to 5999\n",
      "Data columns (total 28 columns):\n",
      " #   Column                  Non-Null Count  Dtype  \n",
      "---  ------                  --------------  -----  \n",
      " 0   Age                     6000 non-null   float64\n",
      " 1   Gender                  6000 non-null   float64\n",
      " 2   Weight                  6000 non-null   float64\n",
      " 3   Height                  6000 non-null   float64\n",
      " 4   Body Mass Index         6000 non-null   float64\n",
      " 5   Obesity                 6000 non-null   float64\n",
      " 6   Waist                   6000 non-null   float64\n",
      " 7   Maximum Blood Pressure  6000 non-null   float64\n",
      " 8   Minimum Blood Pressure  6000 non-null   float64\n",
      " 9   Good Cholesterol        6000 non-null   float64\n",
      " 10  Bad Cholesterol         6000 non-null   float64\n",
      " 11  Total Cholesterol       6000 non-null   float64\n",
      " 12  Dyslipidemia            6000 non-null   float64\n",
      " 13  PVD                     6000 non-null   float64\n",
      " 14  Physical Activity       6000 non-null   float64\n",
      " 15  Education               6000 non-null   float64\n",
      " 16  Unmarried               6000 non-null   float64\n",
      " 17  Income                  6000 non-null   float64\n",
      " 18  PoorVision              6000 non-null   float64\n",
      " 19  Alcohol Consumption     6000 non-null   float64\n",
      " 20  HyperTension            6000 non-null   float64\n",
      " 21  Family  HyperTension    6000 non-null   float64\n",
      " 22  Diabetes                6000 non-null   float64\n",
      " 23  Family Diabetes         6000 non-null   float64\n",
      " 24  Hepatitis               6000 non-null   float64\n",
      " 25  Family Hepatitis        6000 non-null   float64\n",
      " 26  Chronic Fatigue         6000 non-null   float64\n",
      " 27  ALF                     6000 non-null   float64\n",
      "dtypes: float64(28)\n",
      "memory usage: 1.3 MB\n"
     ]
    }
   ],
   "source": [
    "df.info()"
   ]
  },
  {
   "cell_type": "code",
   "execution_count": 83,
   "id": "49aff05e",
   "metadata": {},
   "outputs": [
    {
     "data": {
      "text/plain": [
       "Age                       0\n",
       "Gender                    0\n",
       "Weight                    0\n",
       "Height                    0\n",
       "Body Mass Index           0\n",
       "Obesity                   0\n",
       "Waist                     0\n",
       "Maximum Blood Pressure    0\n",
       "Minimum Blood Pressure    0\n",
       "Good Cholesterol          0\n",
       "Bad Cholesterol           0\n",
       "Total Cholesterol         0\n",
       "Dyslipidemia              0\n",
       "PVD                       0\n",
       "Physical Activity         0\n",
       "Education                 0\n",
       "Unmarried                 0\n",
       "Income                    0\n",
       "PoorVision                0\n",
       "Alcohol Consumption       0\n",
       "HyperTension              0\n",
       "Family  HyperTension      0\n",
       "Diabetes                  0\n",
       "Family Diabetes           0\n",
       "Hepatitis                 0\n",
       "Family Hepatitis          0\n",
       "Chronic Fatigue           0\n",
       "ALF                       0\n",
       "dtype: int64"
      ]
     },
     "execution_count": 83,
     "metadata": {},
     "output_type": "execute_result"
    }
   ],
   "source": [
    "df.isnull().sum()"
   ]
  },
  {
   "cell_type": "code",
   "execution_count": 85,
   "id": "44e8e6cd",
   "metadata": {},
   "outputs": [
    {
     "data": {
      "text/plain": [
       "0"
      ]
     },
     "execution_count": 85,
     "metadata": {},
     "output_type": "execute_result"
    }
   ],
   "source": [
    "df.duplicated().sum()"
   ]
  },
  {
   "cell_type": "code",
   "execution_count": 89,
   "id": "60d5dddd",
   "metadata": {},
   "outputs": [],
   "source": [
    "df = df.drop(['Education'], axis=1)"
   ]
  },
  {
   "cell_type": "code",
   "execution_count": 90,
   "id": "a3675786",
   "metadata": {},
   "outputs": [],
   "source": [
    "df = df.drop(['Unmarried'], axis=1)"
   ]
  },
  {
   "cell_type": "code",
   "execution_count": 91,
   "id": "bf9cbe3a",
   "metadata": {},
   "outputs": [],
   "source": [
    "df = df.drop(['Income'], axis=1)"
   ]
  },
  {
   "cell_type": "code",
   "execution_count": 92,
   "id": "b69df3c0",
   "metadata": {},
   "outputs": [],
   "source": [
    "df = df.drop(['PoorVision'], axis=1)"
   ]
  },
  {
   "cell_type": "code",
   "execution_count": 93,
   "id": "d80d1fc2",
   "metadata": {},
   "outputs": [],
   "source": [
    "df = df.drop(['Family  HyperTension'], axis=1)"
   ]
  },
  {
   "cell_type": "code",
   "execution_count": 94,
   "id": "61c001db",
   "metadata": {},
   "outputs": [],
   "source": [
    "df = df.drop(['Family Diabetes'], axis=1)"
   ]
  },
  {
   "cell_type": "code",
   "execution_count": 95,
   "id": "9d56ab52",
   "metadata": {},
   "outputs": [],
   "source": [
    "df = df.drop(['Family Hepatitis'], axis=1)"
   ]
  },
  {
   "cell_type": "code",
   "execution_count": 97,
   "id": "bfdd6e6d",
   "metadata": {},
   "outputs": [],
   "source": [
    "df = df.drop(['Total Cholesterol'], axis=1)"
   ]
  },
  {
   "cell_type": "code",
   "execution_count": 100,
   "id": "a503c90e",
   "metadata": {},
   "outputs": [],
   "source": [
    "df = df.drop(['Body Mass Index'], axis=1)"
   ]
  },
  {
   "cell_type": "code",
   "execution_count": 101,
   "id": "78434f55",
   "metadata": {},
   "outputs": [
    {
     "name": "stdout",
     "output_type": "stream",
     "text": [
      "Index(['Age', 'Gender', 'Weight', 'Height', 'Obesity', 'Waist',\n",
      "       'Maximum Blood Pressure', 'Minimum Blood Pressure', 'Good Cholesterol',\n",
      "       'Bad Cholesterol', 'Dyslipidemia', 'PVD', 'Physical Activity',\n",
      "       'Alcohol Consumption', 'HyperTension', 'Diabetes', 'Hepatitis',\n",
      "       'Chronic Fatigue', 'ALF'],\n",
      "      dtype='object')\n"
     ]
    }
   ],
   "source": [
    "print(df.columns)"
   ]
  },
  {
   "cell_type": "code",
   "execution_count": 104,
   "id": "596562c8",
   "metadata": {},
   "outputs": [
    {
     "name": "stdout",
     "output_type": "stream",
     "text": [
      "                             Age    Gender    Weight    Height   Obesity  \\\n",
      "Age                     1.000000  0.036107 -0.050409 -0.142165 -0.010784   \n",
      "Gender                  0.036107  1.000000  0.262554  0.658381 -0.093773   \n",
      "Weight                 -0.050409  0.262554  1.000000  0.456077  0.653691   \n",
      "Height                 -0.142165  0.658381  0.456077  1.000000 -0.054439   \n",
      "Obesity                -0.010784 -0.093773  0.653691 -0.054439  1.000000   \n",
      "Waist                   0.166562  0.147834  0.861026  0.191410  0.664947   \n",
      "Maximum Blood Pressure  0.550409  0.040082  0.046244 -0.101181  0.070082   \n",
      "Minimum Blood Pressure  0.021012  0.157751  0.171857  0.155947  0.093578   \n",
      "Good Cholesterol        0.040207 -0.321735 -0.311201 -0.195449 -0.176433   \n",
      "Bad Cholesterol         0.137055  0.034017  0.133646 -0.032161  0.121845   \n",
      "Dyslipidemia            0.023648  0.093051  0.074541  0.046044  0.049582   \n",
      "PVD                     0.224636  0.007159 -0.039060 -0.040972 -0.013339   \n",
      "Physical Activity      -0.176247  0.138845 -0.040471  0.100093 -0.074705   \n",
      "Alcohol Consumption     0.204649  0.166499  0.096855  0.105108  0.019732   \n",
      "HyperTension            0.494107 -0.005176  0.114159 -0.084227  0.140328   \n",
      "Diabetes                0.246114  0.029199  0.123964 -0.030196  0.102135   \n",
      "Hepatitis               0.262740  0.074138  0.020138 -0.005351  0.018684   \n",
      "Chronic Fatigue         0.178995  0.026828  0.023145 -0.019194  0.013529   \n",
      "ALF                     0.367639 -0.014440 -0.020067 -0.049144 -0.004880   \n",
      "\n",
      "                           Waist  Maximum Blood Pressure  \\\n",
      "Age                     0.166562                0.550409   \n",
      "Gender                  0.147834                0.040082   \n",
      "Weight                  0.861026                0.046244   \n",
      "Height                  0.191410               -0.101181   \n",
      "Obesity                 0.664947                0.070082   \n",
      "Waist                   1.000000                0.172412   \n",
      "Maximum Blood Pressure  0.172412                1.000000   \n",
      "Minimum Blood Pressure  0.122926                0.342136   \n",
      "Good Cholesterol       -0.304485                0.013825   \n",
      "Bad Cholesterol         0.230464                0.140884   \n",
      "Dyslipidemia            0.086945                0.004047   \n",
      "PVD                     0.029130                0.162407   \n",
      "Physical Activity      -0.100970               -0.078323   \n",
      "Alcohol Consumption     0.127995                0.069757   \n",
      "HyperTension            0.234503                0.614382   \n",
      "Diabetes                0.216776                0.180972   \n",
      "Hepatitis               0.076710                0.134701   \n",
      "Chronic Fatigue         0.060157                0.058925   \n",
      "ALF                     0.057309                0.210808   \n",
      "\n",
      "                        Minimum Blood Pressure  Good Cholesterol  \\\n",
      "Age                                   0.021012          0.040207   \n",
      "Gender                                0.157751         -0.321735   \n",
      "Weight                                0.171857         -0.311201   \n",
      "Height                                0.155947         -0.195449   \n",
      "Obesity                               0.093578         -0.176433   \n",
      "Waist                                 0.122926         -0.304485   \n",
      "Maximum Blood Pressure                0.342136          0.013825   \n",
      "Minimum Blood Pressure                1.000000         -0.081173   \n",
      "Good Cholesterol                     -0.081173          1.000000   \n",
      "Bad Cholesterol                       0.125484         -0.205887   \n",
      "Dyslipidemia                          0.040961         -0.223024   \n",
      "PVD                                  -0.050270         -0.009633   \n",
      "Physical Activity                     0.021676         -0.012398   \n",
      "Alcohol Consumption                   0.001408         -0.014434   \n",
      "HyperTension                          0.231141         -0.004968   \n",
      "Diabetes                             -0.037376         -0.115069   \n",
      "Hepatitis                            -0.045615         -0.068754   \n",
      "Chronic Fatigue                      -0.043259         -0.041364   \n",
      "ALF                                  -0.083787         -0.031834   \n",
      "\n",
      "                        Bad Cholesterol  Dyslipidemia       PVD  \\\n",
      "Age                            0.137055      0.023648  0.224636   \n",
      "Gender                         0.034017      0.093051  0.007159   \n",
      "Weight                         0.133646      0.074541 -0.039060   \n",
      "Height                        -0.032161      0.046044 -0.040972   \n",
      "Obesity                        0.121845      0.049582 -0.013339   \n",
      "Waist                          0.230464      0.086945  0.029130   \n",
      "Maximum Blood Pressure         0.140884      0.004047  0.162407   \n",
      "Minimum Blood Pressure         0.125484      0.040961 -0.050270   \n",
      "Good Cholesterol              -0.205887     -0.223024 -0.009633   \n",
      "Bad Cholesterol                1.000000      0.329482  0.025065   \n",
      "Dyslipidemia                   0.329482      1.000000 -0.022533   \n",
      "PVD                            0.025065     -0.022533  1.000000   \n",
      "Physical Activity              0.005558      0.016826 -0.078894   \n",
      "Alcohol Consumption            0.035926     -0.007238  0.055674   \n",
      "HyperTension                   0.096066      0.015236  0.144254   \n",
      "Diabetes                       0.062955      0.017941  0.097127   \n",
      "Hepatitis                      0.004171      0.014779  0.093426   \n",
      "Chronic Fatigue               -0.015938      0.016747  0.066849   \n",
      "ALF                            0.033486      0.001812  0.168850   \n",
      "\n",
      "                        Physical Activity  Alcohol Consumption  HyperTension  \\\n",
      "Age                             -0.176247             0.204649      0.494107   \n",
      "Gender                           0.138845             0.166499     -0.005176   \n",
      "Weight                          -0.040471             0.096855      0.114159   \n",
      "Height                           0.100093             0.105108     -0.084227   \n",
      "Obesity                         -0.074705             0.019732      0.140328   \n",
      "Waist                           -0.100970             0.127995      0.234503   \n",
      "Maximum Blood Pressure          -0.078323             0.069757      0.614382   \n",
      "Minimum Blood Pressure           0.021676             0.001408      0.231141   \n",
      "Good Cholesterol                -0.012398            -0.014434     -0.004968   \n",
      "Bad Cholesterol                  0.005558             0.035926      0.096066   \n",
      "Dyslipidemia                     0.016826            -0.007238      0.015236   \n",
      "PVD                             -0.078894             0.055674      0.144254   \n",
      "Physical Activity                1.000000            -0.006001     -0.122501   \n",
      "Alcohol Consumption             -0.006001             1.000000      0.084390   \n",
      "HyperTension                    -0.122501             0.084390      1.000000   \n",
      "Diabetes                        -0.104853             0.068137      0.232138   \n",
      "Hepatitis                       -0.111249             0.062271      0.190364   \n",
      "Chronic Fatigue                 -0.089957             0.042908      0.119757   \n",
      "ALF                             -0.119604             0.067631      0.234026   \n",
      "\n",
      "                        Diabetes  Hepatitis  Chronic Fatigue       ALF  \n",
      "Age                     0.246114   0.262740         0.178995  0.367639  \n",
      "Gender                  0.029199   0.074138         0.026828 -0.014440  \n",
      "Weight                  0.123964   0.020138         0.023145 -0.020067  \n",
      "Height                 -0.030196  -0.005351        -0.019194 -0.049144  \n",
      "Obesity                 0.102135   0.018684         0.013529 -0.004880  \n",
      "Waist                   0.216776   0.076710         0.060157  0.057309  \n",
      "Maximum Blood Pressure  0.180972   0.134701         0.058925  0.210808  \n",
      "Minimum Blood Pressure -0.037376  -0.045615        -0.043259 -0.083787  \n",
      "Good Cholesterol       -0.115069  -0.068754        -0.041364 -0.031834  \n",
      "Bad Cholesterol         0.062955   0.004171        -0.015938  0.033486  \n",
      "Dyslipidemia            0.017941   0.014779         0.016747  0.001812  \n",
      "PVD                     0.097127   0.093426         0.066849  0.168850  \n",
      "Physical Activity      -0.104853  -0.111249        -0.089957 -0.119604  \n",
      "Alcohol Consumption     0.068137   0.062271         0.042908  0.067631  \n",
      "HyperTension            0.232138   0.190364         0.119757  0.234026  \n",
      "Diabetes                1.000000   0.130432         0.103233  0.155656  \n",
      "Hepatitis               0.130432   1.000000         0.331046  0.214724  \n",
      "Chronic Fatigue         0.103233   0.331046         1.000000  0.161900  \n",
      "ALF                     0.155656   0.214724         0.161900  1.000000  \n"
     ]
    }
   ],
   "source": [
    "correlation_matrix = df.corr()\n",
    "print(correlation_matrix)"
   ]
  },
  {
   "cell_type": "code",
   "execution_count": 105,
   "id": "d039bbe8",
   "metadata": {},
   "outputs": [
    {
     "data": {
      "text/plain": [
       "<AxesSubplot:>"
      ]
     },
     "execution_count": 105,
     "metadata": {},
     "output_type": "execute_result"
    },
    {
     "data": {
      "image/png": "[encoded data removed]",
      "text/plain": [
       "<Figure size 640x480 with 2 Axes>"
      ]
     },
     "metadata": {},
     "output_type": "display_data"
    }
   ],
   "source": [
    "import seaborn as sb\n",
    "sb.heatmap(correlation_matrix, \n",
    "        xticklabels=correlation_matrix.columns,\n",
    "        yticklabels=correlation_matrix.columns)"
   ]
  },
  {
   "cell_type": "code",
   "execution_count": 106,
   "id": "c4a0134f",
   "metadata": {},
   "outputs": [
    {
     "name": "stdout",
     "output_type": "stream",
     "text": [
      "<class 'pandas.core.frame.DataFrame'>\n",
      "RangeIndex: 6000 entries, 0 to 5999\n",
      "Data columns (total 19 columns):\n",
      " #   Column                  Non-Null Count  Dtype  \n",
      "---  ------                  --------------  -----  \n",
      " 0   Age                     6000 non-null   float64\n",
      " 1   Gender                  6000 non-null   float64\n",
      " 2   Weight                  6000 non-null   float64\n",
      " 3   Height                  6000 non-null   float64\n",
      " 4   Obesity                 6000 non-null   float64\n",
      " 5   Waist                   6000 non-null   float64\n",
      " 6   Maximum Blood Pressure  6000 non-null   float64\n",
      " 7   Minimum Blood Pressure  6000 non-null   float64\n",
      " 8   Good Cholesterol        6000 non-null   float64\n",
      " 9   Bad Cholesterol         6000 non-null   float64\n",
      " 10  Dyslipidemia            6000 non-null   float64\n",
      " 11  PVD                     6000 non-null   float64\n",
      " 12  Physical Activity       6000 non-null   float64\n",
      " 13  Alcohol Consumption     6000 non-null   float64\n",
      " 14  HyperTension            6000 non-null   float64\n",
      " 15  Diabetes                6000 non-null   float64\n",
      " 16  Hepatitis               6000 non-null   float64\n",
      " 17  Chronic Fatigue         6000 non-null   float64\n",
      " 18  ALF                     6000 non-null   float64\n",
      "dtypes: float64(19)\n",
      "memory usage: 890.8 KB\n",
      "None\n"
     ]
    }
   ],
   "source": [
    "print(df.info())"
   ]
  },
  {
   "cell_type": "markdown",
   "id": "2f749d75",
   "metadata": {},
   "source": [
    "## 3. Model Selection"
   ]
  },
  {
   "cell_type": "markdown",
   "id": "f771ba39",
   "metadata": {},
   "source": [
    "### 1. Naive Bayes"
   ]
  },
  {
   "cell_type": "code",
   "execution_count": 108,
   "id": "ba4a5b1c",
   "metadata": {},
   "outputs": [],
   "source": [
    "y = df['ALF']\n",
    "df = df.drop('ALF',axis=1)\n",
    "X = df\n"
   ]
  },
  {
   "cell_type": "code",
   "execution_count": 112,
   "id": "10a32387",
   "metadata": {},
   "outputs": [],
   "source": [
    "from sklearn.preprocessing import StandardScaler\n",
    "sc = StandardScaler()\n",
    "X = sc.fit_transform(X)"
   ]
  },
  {
   "cell_type": "code",
   "execution_count": 113,
   "id": "08865186",
   "metadata": {},
   "outputs": [],
   "source": [
    "#splitting our dataset into training sets and teset sets\n",
    "\n",
    "from sklearn.model_selection import train_test_split\n",
    "X_train, X_test, y_train, y_test = train_test_split(X,y,stratify = y)"
   ]
  },
  {
   "cell_type": "code",
   "execution_count": 114,
   "id": "520fcf39",
   "metadata": {},
   "outputs": [
    {
     "data": {
      "text/html": [
       "<style>#sk-container-id-1 {color: black;background-color: white;}#sk-container-id-1 pre{padding: 0;}#sk-container-id-1 div.sk-toggleable {background-color: white;}#sk-container-id-1 label.sk-toggleable__label {cursor: pointer;display: block;width: 100%;margin-bottom: 0;padding: 0.3em;box-sizing: border-box;text-align: center;}#sk-container-id-1 label.sk-toggleable__label-arrow:before {content: \"▸\";float: left;margin-right: 0.25em;color: #696969;}#sk-container-id-1 label.sk-toggleable__label-arrow:hover:before {color: black;}#sk-container-id-1 div.sk-estimator:hover label.sk-toggleable__label-arrow:before {color: black;}#sk-container-id-1 div.sk-toggleable__content {max-height: 0;max-width: 0;overflow: hidden;text-align: left;background-color: #f0f8ff;}#sk-container-id-1 div.sk-toggleable__content pre {margin: 0.2em;color: black;border-radius: 0.25em;background-color: #f0f8ff;}#sk-container-id-1 input.sk-toggleable__control:checked~div.sk-toggleable__content {max-height: 200px;max-width: 100%;overflow: auto;}#sk-container-id-1 input.sk-toggleable__control:checked~label.sk-toggleable__label-arrow:before {content: \"▾\";}#sk-container-id-1 div.sk-estimator input.sk-toggleable__control:checked~label.sk-toggleable__label {background-color: #d4ebff;}#sk-container-id-1 div.sk-label input.sk-toggleable__control:checked~label.sk-toggleable__label {background-color: #d4ebff;}#sk-container-id-1 input.sk-hidden--visually {border: 0;clip: rect(1px 1px 1px 1px);clip: rect(1px, 1px, 1px, 1px);height: 1px;margin: -1px;overflow: hidden;padding: 0;position: absolute;width: 1px;}#sk-container-id-1 div.sk-estimator {font-family: monospace;background-color: #f0f8ff;border: 1px dotted black;border-radius: 0.25em;box-sizing: border-box;margin-bottom: 0.5em;}#sk-container-id-1 div.sk-estimator:hover {background-color: #d4ebff;}#sk-container-id-1 div.sk-parallel-item::after {content: \"\";width: 100%;border-bottom: 1px solid gray;flex-grow: 1;}#sk-container-id-1 div.sk-label:hover label.sk-toggleable__label {background-color: #d4ebff;}#sk-container-id-1 div.sk-serial::before {content: \"\";position: absolute;border-left: 1px solid gray;box-sizing: border-box;top: 0;bottom: 0;left: 50%;z-index: 0;}#sk-container-id-1 div.sk-serial {display: flex;flex-direction: column;align-items: center;background-color: white;padding-right: 0.2em;padding-left: 0.2em;position: relative;}#sk-container-id-1 div.sk-item {position: relative;z-index: 1;}#sk-container-id-1 div.sk-parallel {display: flex;align-items: stretch;justify-content: center;background-color: white;position: relative;}#sk-container-id-1 div.sk-item::before, #sk-container-id-1 div.sk-parallel-item::before {content: \"\";position: absolute;border-left: 1px solid gray;box-sizing: border-box;top: 0;bottom: 0;left: 50%;z-index: -1;}#sk-container-id-1 div.sk-parallel-item {display: flex;flex-direction: column;z-index: 1;position: relative;background-color: white;}#sk-container-id-1 div.sk-parallel-item:first-child::after {align-self: flex-end;width: 50%;}#sk-container-id-1 div.sk-parallel-item:last-child::after {align-self: flex-start;width: 50%;}#sk-container-id-1 div.sk-parallel-item:only-child::after {width: 0;}#sk-container-id-1 div.sk-dashed-wrapped {border: 1px dashed gray;margin: 0 0.4em 0.5em 0.4em;box-sizing: border-box;padding-bottom: 0.4em;background-color: white;}#sk-container-id-1 div.sk-label label {font-family: monospace;font-weight: bold;display: inline-block;line-height: 1.2em;}#sk-container-id-1 div.sk-label-container {text-align: center;}#sk-container-id-1 div.sk-container {/* jupyter's `normalize.less` sets `[hidden] { display: none; }` but bootstrap.min.css set `[hidden] { display: none !important; }` so we also need the `!important` here to be able to override the default hidden behavior on the sphinx rendered scikit-learn.org. See: https://github.com/scikit-learn/scikit-learn/issues/21755 */display: inline-block !important;position: relative;}#sk-container-id-1 div.sk-text-repr-fallback {display: none;}</style><div id=\"sk-container-id-1\" class=\"sk-top-container\"><div class=\"sk-text-repr-fallback\"><pre>GaussianNB()</pre><b>In a Jupyter environment, please rerun this cell to show the HTML representation or trust the notebook. <br />On GitHub, the HTML representation is unable to render, please try loading this page with nbviewer.org.</b></div><div class=\"sk-container\" hidden><div class=\"sk-item\"><div class=\"sk-estimator sk-toggleable\"><input class=\"sk-toggleable__control sk-hidden--visually\" id=\"sk-estimator-id-1\" type=\"checkbox\" checked><label for=\"sk-estimator-id-1\" class=\"sk-toggleable__label sk-toggleable__label-arrow\">GaussianNB</label><div class=\"sk-toggleable__content\"><pre>GaussianNB()</pre></div></div></div></div></div>"
      ],
      "text/plain": [
       "GaussianNB()"
      ]
     },
     "execution_count": 114,
     "metadata": {},
     "output_type": "execute_result"
    }
   ],
   "source": [
    "from sklearn.naive_bayes import GaussianNB\n",
    "gnb = GaussianNB()\n",
    "gnb.fit(X_train, y_train)"
   ]
  },
  {
   "cell_type": "code",
   "execution_count": 115,
   "id": "8a8b91b2",
   "metadata": {},
   "outputs": [
    {
     "data": {
      "text/plain": [
       "array([0., 0., 0., ..., 0., 0., 1.])"
      ]
     },
     "execution_count": 115,
     "metadata": {},
     "output_type": "execute_result"
    }
   ],
   "source": [
    "y_pred = gnb.predict(X_test)\n",
    "y_pred"
   ]
  },
  {
   "cell_type": "code",
   "execution_count": 116,
   "id": "d5975d5a",
   "metadata": {},
   "outputs": [
    {
     "name": "stdout",
     "output_type": "stream",
     "text": [
      "Model accuracy score: 0.8740\n"
     ]
    }
   ],
   "source": [
    "\n",
    "\n",
    "from sklearn.metrics import accuracy_score\n",
    "\n",
    "print('Model accuracy score: {0:0.4f}'. format(accuracy_score(y_test, y_pred)))\n",
    "\n"
   ]
  },
  {
   "cell_type": "code",
   "execution_count": 117,
   "id": "58ef243b",
   "metadata": {},
   "outputs": [
    {
     "name": "stdout",
     "output_type": "stream",
     "text": [
      "Training set score: 0.8560\n",
      "Test set score: 0.8740\n"
     ]
    }
   ],
   "source": [
    "# print the scores on training and test set\n",
    "\n",
    "print('Training set score: {:.4f}'.format(gnb.score(X_train, y_train)))\n",
    "print('Test set score: {:.4f}'.format(gnb.score(X_test, y_test)))"
   ]
  },
  {
   "cell_type": "code",
   "execution_count": 118,
   "id": "4f95061f",
   "metadata": {},
   "outputs": [
    {
     "name": "stdout",
     "output_type": "stream",
     "text": [
      "Confusion matrix\n",
      "\n",
      " [[1241  143]\n",
      " [  46   70]]\n",
      "\n",
      "True Positives(TP) =  1241\n",
      "\n",
      "True Negatives(TN) =  70\n",
      "\n",
      "False Positives(FP) =  143\n",
      "\n",
      "False Negatives(FN) =  46\n"
     ]
    }
   ],
   "source": [
    "from sklearn.metrics import confusion_matrix\n",
    "\n",
    "cm = confusion_matrix(y_test, y_pred)\n",
    "\n",
    "print('Confusion matrix\\n\\n', cm)\n",
    "print('\\nTrue Positives(TP) = ', cm[0,0])\n",
    "print('\\nTrue Negatives(TN) = ', cm[1,1])\n",
    "print('\\nFalse Positives(FP) = ', cm[0,1])\n",
    "print('\\nFalse Negatives(FN) = ', cm[1,0])"
   ]
  },
  {
   "cell_type": "markdown",
   "id": "890bd3ed",
   "metadata": {},
   "source": [
    "###  2. KNN"
   ]
  },
  {
   "cell_type": "code",
   "execution_count": 137,
   "id": "733928a7",
   "metadata": {},
   "outputs": [],
   "source": [
    "from sklearn.neighbors import KNeighborsClassifier\n",
    "from sklearn.model_selection import cross_val_score\n",
    "from sklearn.model_selection import train_test_split\n",
    "from sklearn.metrics import accuracy_score, f1_score, precision_score, recall_score, classification_report, confusion_matrix"
   ]
  },
  {
   "cell_type": "code",
   "execution_count": 126,
   "id": "f8f57edd",
   "metadata": {},
   "outputs": [],
   "source": [
    "knn = KNeighborsClassifier(n_neighbors=7)"
   ]
  },
  {
   "cell_type": "code",
   "execution_count": 127,
   "id": "f99c9e47",
   "metadata": {},
   "outputs": [
    {
     "data": {
      "text/html": [
       "<style>#sk-container-id-2 {color: black;background-color: white;}#sk-container-id-2 pre{padding: 0;}#sk-container-id-2 div.sk-toggleable {background-color: white;}#sk-container-id-2 label.sk-toggleable__label {cursor: pointer;display: block;width: 100%;margin-bottom: 0;padding: 0.3em;box-sizing: border-box;text-align: center;}#sk-container-id-2 label.sk-toggleable__label-arrow:before {content: \"▸\";float: left;margin-right: 0.25em;color: #696969;}#sk-container-id-2 label.sk-toggleable__label-arrow:hover:before {color: black;}#sk-container-id-2 div.sk-estimator:hover label.sk-toggleable__label-arrow:before {color: black;}#sk-container-id-2 div.sk-toggleable__content {max-height: 0;max-width: 0;overflow: hidden;text-align: left;background-color: #f0f8ff;}#sk-container-id-2 div.sk-toggleable__content pre {margin: 0.2em;color: black;border-radius: 0.25em;background-color: #f0f8ff;}#sk-container-id-2 input.sk-toggleable__control:checked~div.sk-toggleable__content {max-height: 200px;max-width: 100%;overflow: auto;}#sk-container-id-2 input.sk-toggleable__control:checked~label.sk-toggleable__label-arrow:before {content: \"▾\";}#sk-container-id-2 div.sk-estimator input.sk-toggleable__control:checked~label.sk-toggleable__label {background-color: #d4ebff;}#sk-container-id-2 div.sk-label input.sk-toggleable__control:checked~label.sk-toggleable__label {background-color: #d4ebff;}#sk-container-id-2 input.sk-hidden--visually {border: 0;clip: rect(1px 1px 1px 1px);clip: rect(1px, 1px, 1px, 1px);height: 1px;margin: -1px;overflow: hidden;padding: 0;position: absolute;width: 1px;}#sk-container-id-2 div.sk-estimator {font-family: monospace;background-color: #f0f8ff;border: 1px dotted black;border-radius: 0.25em;box-sizing: border-box;margin-bottom: 0.5em;}#sk-container-id-2 div.sk-estimator:hover {background-color: #d4ebff;}#sk-container-id-2 div.sk-parallel-item::after {content: \"\";width: 100%;border-bottom: 1px solid gray;flex-grow: 1;}#sk-container-id-2 div.sk-label:hover label.sk-toggleable__label {background-color: #d4ebff;}#sk-container-id-2 div.sk-serial::before {content: \"\";position: absolute;border-left: 1px solid gray;box-sizing: border-box;top: 0;bottom: 0;left: 50%;z-index: 0;}#sk-container-id-2 div.sk-serial {display: flex;flex-direction: column;align-items: center;background-color: white;padding-right: 0.2em;padding-left: 0.2em;position: relative;}#sk-container-id-2 div.sk-item {position: relative;z-index: 1;}#sk-container-id-2 div.sk-parallel {display: flex;align-items: stretch;justify-content: center;background-color: white;position: relative;}#sk-container-id-2 div.sk-item::before, #sk-container-id-2 div.sk-parallel-item::before {content: \"\";position: absolute;border-left: 1px solid gray;box-sizing: border-box;top: 0;bottom: 0;left: 50%;z-index: -1;}#sk-container-id-2 div.sk-parallel-item {display: flex;flex-direction: column;z-index: 1;position: relative;background-color: white;}#sk-container-id-2 div.sk-parallel-item:first-child::after {align-self: flex-end;width: 50%;}#sk-container-id-2 div.sk-parallel-item:last-child::after {align-self: flex-start;width: 50%;}#sk-container-id-2 div.sk-parallel-item:only-child::after {width: 0;}#sk-container-id-2 div.sk-dashed-wrapped {border: 1px dashed gray;margin: 0 0.4em 0.5em 0.4em;box-sizing: border-box;padding-bottom: 0.4em;background-color: white;}#sk-container-id-2 div.sk-label label {font-family: monospace;font-weight: bold;display: inline-block;line-height: 1.2em;}#sk-container-id-2 div.sk-label-container {text-align: center;}#sk-container-id-2 div.sk-container {/* jupyter's `normalize.less` sets `[hidden] { display: none; }` but bootstrap.min.css set `[hidden] { display: none !important; }` so we also need the `!important` here to be able to override the default hidden behavior on the sphinx rendered scikit-learn.org. See: https://github.com/scikit-learn/scikit-learn/issues/21755 */display: inline-block !important;position: relative;}#sk-container-id-2 div.sk-text-repr-fallback {display: none;}</style><div id=\"sk-container-id-2\" class=\"sk-top-container\"><div class=\"sk-text-repr-fallback\"><pre>KNeighborsClassifier(n_neighbors=7)</pre><b>In a Jupyter environment, please rerun this cell to show the HTML representation or trust the notebook. <br />On GitHub, the HTML representation is unable to render, please try loading this page with nbviewer.org.</b></div><div class=\"sk-container\" hidden><div class=\"sk-item\"><div class=\"sk-estimator sk-toggleable\"><input class=\"sk-toggleable__control sk-hidden--visually\" id=\"sk-estimator-id-2\" type=\"checkbox\" checked><label for=\"sk-estimator-id-2\" class=\"sk-toggleable__label sk-toggleable__label-arrow\">KNeighborsClassifier</label><div class=\"sk-toggleable__content\"><pre>KNeighborsClassifier(n_neighbors=7)</pre></div></div></div></div></div>"
      ],
      "text/plain": [
       "KNeighborsClassifier(n_neighbors=7)"
      ]
     },
     "execution_count": 127,
     "metadata": {},
     "output_type": "execute_result"
    }
   ],
   "source": [
    "knn.fit(X_train, y_train)"
   ]
  },
  {
   "cell_type": "code",
   "execution_count": 132,
   "id": "a8b86492",
   "metadata": {},
   "outputs": [],
   "source": [
    "k_values = [i for i in range (1,31)]\n",
    "scores = []\n",
    "\n",
    "scaler = StandardScaler()\n",
    "X = scaler.fit_transform(X)\n",
    "\n",
    "for k in k_values:\n",
    "    knn = KNeighborsClassifier(n_neighbors=k)\n",
    "    score = cross_val_score(knn, X, y, cv=5)\n",
    "    scores.append(np.mean(score))"
   ]
  },
  {
   "cell_type": "code",
   "execution_count": 134,
   "id": "ff26c962",
   "metadata": {},
   "outputs": [
    {
     "data": {
      "text/plain": [
       "Text(0, 0.5, 'Accuracy Score')"
      ]
     },
     "execution_count": 134,
     "metadata": {},
     "output_type": "execute_result"
    },
    {
     "data": {
      "image/png": "[encoded data removed]",
      "text/plain": [
       "<Figure size 640x480 with 1 Axes>"
      ]
     },
     "metadata": {},
     "output_type": "display_data"
    }
   ],
   "source": [
    "sb.lineplot(x = k_values, y = scores, marker = 'o')\n",
    "plt.xlabel(\"K Values\")\n",
    "plt.ylabel(\"Accuracy Score\")"
   ]
  },
  {
   "cell_type": "code",
   "execution_count": 135,
   "id": "e3b9d96a",
   "metadata": {},
   "outputs": [
    {
     "data": {
      "text/html": [
       "<style>#sk-container-id-3 {color: black;background-color: white;}#sk-container-id-3 pre{padding: 0;}#sk-container-id-3 div.sk-toggleable {background-color: white;}#sk-container-id-3 label.sk-toggleable__label {cursor: pointer;display: block;width: 100%;margin-bottom: 0;padding: 0.3em;box-sizing: border-box;text-align: center;}#sk-container-id-3 label.sk-toggleable__label-arrow:before {content: \"▸\";float: left;margin-right: 0.25em;color: #696969;}#sk-container-id-3 label.sk-toggleable__label-arrow:hover:before {color: black;}#sk-container-id-3 div.sk-estimator:hover label.sk-toggleable__label-arrow:before {color: black;}#sk-container-id-3 div.sk-toggleable__content {max-height: 0;max-width: 0;overflow: hidden;text-align: left;background-color: #f0f8ff;}#sk-container-id-3 div.sk-toggleable__content pre {margin: 0.2em;color: black;border-radius: 0.25em;background-color: #f0f8ff;}#sk-container-id-3 input.sk-toggleable__control:checked~div.sk-toggleable__content {max-height: 200px;max-width: 100%;overflow: auto;}#sk-container-id-3 input.sk-toggleable__control:checked~label.sk-toggleable__label-arrow:before {content: \"▾\";}#sk-container-id-3 div.sk-estimator input.sk-toggleable__control:checked~label.sk-toggleable__label {background-color: #d4ebff;}#sk-container-id-3 div.sk-label input.sk-toggleable__control:checked~label.sk-toggleable__label {background-color: #d4ebff;}#sk-container-id-3 input.sk-hidden--visually {border: 0;clip: rect(1px 1px 1px 1px);clip: rect(1px, 1px, 1px, 1px);height: 1px;margin: -1px;overflow: hidden;padding: 0;position: absolute;width: 1px;}#sk-container-id-3 div.sk-estimator {font-family: monospace;background-color: #f0f8ff;border: 1px dotted black;border-radius: 0.25em;box-sizing: border-box;margin-bottom: 0.5em;}#sk-container-id-3 div.sk-estimator:hover {background-color: #d4ebff;}#sk-container-id-3 div.sk-parallel-item::after {content: \"\";width: 100%;border-bottom: 1px solid gray;flex-grow: 1;}#sk-container-id-3 div.sk-label:hover label.sk-toggleable__label {background-color: #d4ebff;}#sk-container-id-3 div.sk-serial::before {content: \"\";position: absolute;border-left: 1px solid gray;box-sizing: border-box;top: 0;bottom: 0;left: 50%;z-index: 0;}#sk-container-id-3 div.sk-serial {display: flex;flex-direction: column;align-items: center;background-color: white;padding-right: 0.2em;padding-left: 0.2em;position: relative;}#sk-container-id-3 div.sk-item {position: relative;z-index: 1;}#sk-container-id-3 div.sk-parallel {display: flex;align-items: stretch;justify-content: center;background-color: white;position: relative;}#sk-container-id-3 div.sk-item::before, #sk-container-id-3 div.sk-parallel-item::before {content: \"\";position: absolute;border-left: 1px solid gray;box-sizing: border-box;top: 0;bottom: 0;left: 50%;z-index: -1;}#sk-container-id-3 div.sk-parallel-item {display: flex;flex-direction: column;z-index: 1;position: relative;background-color: white;}#sk-container-id-3 div.sk-parallel-item:first-child::after {align-self: flex-end;width: 50%;}#sk-container-id-3 div.sk-parallel-item:last-child::after {align-self: flex-start;width: 50%;}#sk-container-id-3 div.sk-parallel-item:only-child::after {width: 0;}#sk-container-id-3 div.sk-dashed-wrapped {border: 1px dashed gray;margin: 0 0.4em 0.5em 0.4em;box-sizing: border-box;padding-bottom: 0.4em;background-color: white;}#sk-container-id-3 div.sk-label label {font-family: monospace;font-weight: bold;display: inline-block;line-height: 1.2em;}#sk-container-id-3 div.sk-label-container {text-align: center;}#sk-container-id-3 div.sk-container {/* jupyter's `normalize.less` sets `[hidden] { display: none; }` but bootstrap.min.css set `[hidden] { display: none !important; }` so we also need the `!important` here to be able to override the default hidden behavior on the sphinx rendered scikit-learn.org. See: https://github.com/scikit-learn/scikit-learn/issues/21755 */display: inline-block !important;position: relative;}#sk-container-id-3 div.sk-text-repr-fallback {display: none;}</style><div id=\"sk-container-id-3\" class=\"sk-top-container\"><div class=\"sk-text-repr-fallback\"><pre>KNeighborsClassifier(n_neighbors=17)</pre><b>In a Jupyter environment, please rerun this cell to show the HTML representation or trust the notebook. <br />On GitHub, the HTML representation is unable to render, please try loading this page with nbviewer.org.</b></div><div class=\"sk-container\" hidden><div class=\"sk-item\"><div class=\"sk-estimator sk-toggleable\"><input class=\"sk-toggleable__control sk-hidden--visually\" id=\"sk-estimator-id-3\" type=\"checkbox\" checked><label for=\"sk-estimator-id-3\" class=\"sk-toggleable__label sk-toggleable__label-arrow\">KNeighborsClassifier</label><div class=\"sk-toggleable__content\"><pre>KNeighborsClassifier(n_neighbors=17)</pre></div></div></div></div></div>"
      ],
      "text/plain": [
       "KNeighborsClassifier(n_neighbors=17)"
      ]
     },
     "execution_count": 135,
     "metadata": {},
     "output_type": "execute_result"
    }
   ],
   "source": [
    "best_index = np.argmax(scores)\n",
    "best_k = k_values[best_index]\n",
    "\n",
    "knn = KNeighborsClassifier(n_neighbors=best_k)\n",
    "knn.fit(X_train, y_train)"
   ]
  },
  {
   "cell_type": "code",
   "execution_count": 140,
   "id": "4e93eeb5",
   "metadata": {},
   "outputs": [
    {
     "name": "stdout",
     "output_type": "stream",
     "text": [
      "Conclusion\n",
      "K =  17\n",
      "Accuracy: 0.918\n",
      "Precision: 0.23076923076923078\n",
      "Recall: 0.02586206896551724\n"
     ]
    }
   ],
   "source": [
    "y_pred = knn.predict(X_test)\n",
    "\n",
    "accuracy = accuracy_score(y_test, y_pred)\n",
    "precision = precision_score(y_test, y_pred)\n",
    "recall = recall_score(y_test, y_pred)\n",
    "print(\"Conclusion\")\n",
    "print(\"K = \",best_k)\n",
    "print(\"Accuracy:\", accuracy)\n",
    "print(\"Precision:\", precision)\n",
    "print(\"Recall:\", recall)"
   ]
  },
  {
   "cell_type": "code",
   "execution_count": 141,
   "id": "1e49cf93",
   "metadata": {},
   "outputs": [
    {
     "data": {
      "text/plain": [
       "<bound method NDFrame.head of        Age  Gender  Weight  Height  Obesity  Waist  Maximum Blood Pressure  \\\n",
       "0     65.0     0.0    56.0   162.1      0.0   83.6                   135.0   \n",
       "1     36.0     0.0    60.2   162.2      0.0   76.6                    96.0   \n",
       "2     66.0     0.0    83.9   162.5      1.0  113.2                   115.0   \n",
       "3     54.0     0.0    69.4   160.5      0.0   77.9                   110.0   \n",
       "4     63.0     0.0    73.1   159.2      0.0   89.3                   132.0   \n",
       "...    ...     ...     ...     ...      ...    ...                     ...   \n",
       "5995  77.0     1.0   109.3   185.8      1.0  117.2                   149.0   \n",
       "5996  49.0     1.0    86.6   168.9      1.0   99.5                   130.0   \n",
       "5997  30.0     1.0    78.0   174.9      0.0   89.2                   126.0   \n",
       "5998  75.0     1.0    78.8   176.5      0.0  100.4                   129.0   \n",
       "5999  35.0     0.0    62.3   164.2      0.0   87.2                    95.0   \n",
       "\n",
       "      Minimum Blood Pressure  Good Cholesterol  Bad Cholesterol  Dyslipidemia  \\\n",
       "0                       71.0              48.0            249.0           0.0   \n",
       "1                       52.0              31.0            135.0           0.0   \n",
       "2                       57.0              44.0            211.0           1.0   \n",
       "3                       57.0              74.0            156.0           0.0   \n",
       "4                       73.0              67.0            154.0           0.0   \n",
       "...                      ...               ...              ...           ...   \n",
       "5995                    77.0              33.0            189.0           0.0   \n",
       "5996                    75.0              38.0            123.0           0.0   \n",
       "5997                    83.0              40.0            131.0           0.0   \n",
       "5998                    50.0              58.0            134.0           0.0   \n",
       "5999                    59.0              52.0            102.0           0.0   \n",
       "\n",
       "      PVD  Physical Activity  Alcohol Consumption  HyperTension  Diabetes  \\\n",
       "0     0.0                3.0                  1.0           0.0       0.0   \n",
       "1     0.0                3.0                  0.0           0.0       0.0   \n",
       "2     0.0                1.0                  1.0           0.0       1.0   \n",
       "3     0.0                2.0                  1.0           0.0       0.0   \n",
       "4     0.0                1.0                  0.0           1.0       0.0   \n",
       "...   ...                ...                  ...           ...       ...   \n",
       "5995  0.0                2.0                  1.0           1.0       0.0   \n",
       "5996  0.0                2.0                  0.0           1.0       0.0   \n",
       "5997  0.0                1.0                  0.0           0.0       0.0   \n",
       "5998  0.0                1.0                  1.0           1.0       1.0   \n",
       "5999  0.0                2.0                  1.0           0.0       0.0   \n",
       "\n",
       "      Hepatitis  Chronic Fatigue  \n",
       "0           1.0              0.0  \n",
       "1           0.0              0.0  \n",
       "2           0.0              0.0  \n",
       "3           0.0              0.0  \n",
       "4           0.0              0.0  \n",
       "...         ...              ...  \n",
       "5995        0.0              0.0  \n",
       "5996        0.0              0.0  \n",
       "5997        0.0              0.0  \n",
       "5998        0.0              0.0  \n",
       "5999        0.0              0.0  \n",
       "\n",
       "[6000 rows x 18 columns]>"
      ]
     },
     "execution_count": 141,
     "metadata": {},
     "output_type": "execute_result"
    }
   ],
   "source": [
    "df.head"
   ]
  },
  {
   "cell_type": "code",
   "execution_count": 144,
   "id": "bc2276a5",
   "metadata": {},
   "outputs": [],
   "source": [
    "df.to_csv(\"cleaned_data.csv\", encoding='utf-8', index=False)"
   ]
  },
  {
   "cell_type": "code",
   "execution_count": null,
   "id": "306ab71c",
   "metadata": {},
   "outputs": [],
   "source": []
  }
 ],
 "metadata": {
  "kernelspec": {
   "display_name": "Python 3 (ipykernel)",
   "language": "python",
   "name": "python3"
  },
  "language_info": {
   "codemirror_mode": {
    "name": "ipython",
    "version": 3
   },
   "file_extension": ".py",
   "mimetype": "text/x-python",
   "name": "python",
   "nbconvert_exporter": "python",
   "pygments_lexer": "ipython3",
   "version": "3.10.7"
  }
 },
 "nbformat": 4,
 "nbformat_minor": 5
}
